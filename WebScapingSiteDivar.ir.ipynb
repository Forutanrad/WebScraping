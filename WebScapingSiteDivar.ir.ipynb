{
 "cells": [
  {
   "cell_type": "markdown",
   "id": "d7b8b4cb",
   "metadata": {},
   "source": [
    "# Data extraction project from the divar site\n",
    "\n"
   ]
  },
  {
   "cell_type": "markdown",
   "id": "e6374864",
   "metadata": {},
   "source": [
    "# Requirements"
   ]
  },
  {
   "cell_type": "code",
   "execution_count": 1,
   "id": "f6ff990a",
   "metadata": {
    "scrolled": false
   },
   "outputs": [],
   "source": [
    "pip install -U selenium"
   ]
  },
  {
   "cell_type": "code",
   "execution_count": 2,
   "id": "7e1d9817",
   "metadata": {},
   "outputs": [],
   "source": [
    "pip install pandas"
   ]
  },
  {
   "cell_type": "code",
   "execution_count": 12,
   "id": "c45010a9",
   "metadata": {},
   "outputs": [],
   "source": [
    "pip install pysqlite3 "
   ]
  },
  {
   "cell_type": "raw",
   "id": "963e5b16",
   "metadata": {},
   "source": [
    "# only supports Chrome version 102"
   ]
  },
  {
   "cell_type": "markdown",
   "id": "55b02d2f",
   "metadata": {},
   "source": [
    "# Import the required libraries and modules"
   ]
  },
  {
   "cell_type": "code",
   "execution_count": 1,
   "id": "ce08b296",
   "metadata": {},
   "outputs": [],
   "source": [
    "from selenium import webdriver\n",
    "from selenium.webdriver.common.by import By\n",
    "from selenium.webdriver.chrome.service import Service\n",
    "from selenium.webdriver.support.ui import WebDriverWait\n",
    "from selenium.webdriver.support import expected_conditions as EC\n",
    "import time "
   ]
  },
  {
   "cell_type": "markdown",
   "id": "8db486a5",
   "metadata": {},
   "source": [
    "# Residential sales"
   ]
  },
  {
   "cell_type": "code",
   "execution_count": 23,
   "id": "c1408843",
   "metadata": {},
   "outputs": [],
   "source": [
    "url = 'https://divar.ir/s/tehran/buy-residential/' # آدرس صفحه خرید و فروش\n",
    "s = Service('chromedriver.exe') # The path to your driver\n",
    "\n",
    "driver = webdriver.Chrome(service = s)\n",
    "driver.get(url)\n",
    "driver2 = webdriver.Chrome(service = s)\n",
    "time.sleep(3)"
   ]
  },
  {
   "cell_type": "markdown",
   "id": "5aee5246",
   "metadata": {},
   "source": [
    "# Find Data"
   ]
  },
  {
   "cell_type": "code",
   "execution_count": 24,
   "id": "f9c01a28",
   "metadata": {},
   "outputs": [
    {
     "data": {
      "text/plain": [
       "19"
      ]
     },
     "execution_count": 24,
     "metadata": {},
     "output_type": "execute_result"
    }
   ],
   "source": [
    "all_items = driver.find_elements(By.XPATH, value = \"//a[@class='kt-post-card kt-post-card--outlined kt-post-card--has-chat']\")\n",
    "links = [item.get_attribute('href') for item in all_items]\n",
    "\n",
    "len(links)"
   ]
  },
  {
   "cell_type": "code",
   "execution_count": 26,
   "id": "8ce5be36",
   "metadata": {},
   "outputs": [
    {
     "name": "stdout",
     "output_type": "stream",
     "text": [
      "7 9\n",
      "3 16\n",
      "4 19\n",
      "9 23\n",
      "1 32\n"
     ]
    }
   ],
   "source": [
    "maxFind = 3 # Number of page Load\n",
    "data_buy_residential = []\n",
    "flag = 0\n",
    "while True:\n",
    "    try:\n",
    "        for link in links:\n",
    "            driver2.get(link)\n",
    "            time.sleep(1)\n",
    "            all_items = driver2.find_elements(By.XPATH, value = \"//div[@class='post-info']\")\n",
    "            for item in all_items:\n",
    "                try:\n",
    "                    price = item.find_element(By.XPATH, value = \".//p[@class='kt-unexpandable-row__value'][1]\").text\n",
    "                except:\n",
    "                    price = ''\n",
    "\n",
    "                try:\n",
    "                    place = item.find_element(By.XPATH, value = \".//div[@class='kt-page-title__subtitle kt-page-title__subtitle--responsive-sized']\").text\n",
    "                except:\n",
    "                    place = ''      \n",
    "\n",
    "                try:\n",
    "                    size = item.find_element(By.XPATH, value = \".//span[@class='kt-group-row-item__value'][1]\").text\n",
    "                except:\n",
    "                    size = '-1' \n",
    "\n",
    "                try:\n",
    "                    year = item.find_element(By.XPATH, value = \".//span[@class='kt-group-row-item__value'][2]\").text\n",
    "                except:\n",
    "                    year = '-1' \n",
    "\n",
    "                try:\n",
    "                    room = item.find_element(By.XPATH, value = \".//span[@class='kt-group-row-item__value'][3]\").text\n",
    "                except:\n",
    "                    room = '-1'    \n",
    "\n",
    "                data_buy_residential.append([price, place, int(size), int(year), int(room) ])\n",
    "        \n",
    "        driver.execute_script(\"window.scrollTo(0, document.body.scrollHeight,)\")\n",
    "        time.sleep(3)\n",
    "        all_items = driver.find_elements(By.XPATH, value = \"//a[@class='kt-post-card kt-post-card--outlined kt-post-card--has-chat']\")\n",
    "        links = [item.get_attribute('href') for item in all_items]\n",
    "        flag += 1\n",
    "        if flag >= maxFind: break\n",
    "    except:\n",
    "        break\n"
   ]
  },
  {
   "cell_type": "code",
   "execution_count": 27,
   "id": "7cecfadf",
   "metadata": {},
   "outputs": [
    {
     "data": {
      "text/plain": [
       "32"
      ]
     },
     "execution_count": 27,
     "metadata": {},
     "output_type": "execute_result"
    }
   ],
   "source": [
    "len(data_buy_residential)"
   ]
  },
  {
   "cell_type": "markdown",
   "id": "6e260e82",
   "metadata": {},
   "source": [
    "# Residential rent"
   ]
  },
  {
   "cell_type": "code",
   "execution_count": 31,
   "id": "fe10d67d",
   "metadata": {},
   "outputs": [],
   "source": [
    "url = 'https://divar.ir/s/tehran/rent-residential/' # آدرس صفحه اجاره مسکونی\n",
    "s = Service('chromedriver.exe') # The path to your driver\n",
    "\n",
    "driver = webdriver.Chrome(service = s)\n",
    "driver2 = webdriver.Chrome(service = s)\n",
    "driver.get(url)\n",
    "time.sleep(3)"
   ]
  },
  {
   "cell_type": "markdown",
   "id": "5577762e",
   "metadata": {},
   "source": [
    "# Find Data"
   ]
  },
  {
   "cell_type": "code",
   "execution_count": 32,
   "id": "cb53ac56",
   "metadata": {},
   "outputs": [
    {
     "data": {
      "text/plain": [
       "11"
      ]
     },
     "execution_count": 32,
     "metadata": {},
     "output_type": "execute_result"
    }
   ],
   "source": [
    "all_items = driver.find_elements(By.XPATH, value = \"//a[@class='kt-post-card kt-post-card--outlined kt-post-card--has-chat']\")\n",
    "links = [item.get_attribute('href') for item in all_items]\n",
    "\n",
    "len(links)"
   ]
  },
  {
   "cell_type": "code",
   "execution_count": 33,
   "id": "d22eec4e",
   "metadata": {},
   "outputs": [],
   "source": [
    "maxFind = 3 # Number of page Load\n",
    "data_rent_residential = []\n",
    "flag = 0\n",
    "while True:\n",
    "    try:\n",
    "        for link in links:\n",
    "            driver2.get(link)\n",
    "            time.sleep(1)\n",
    "            all_items = driver2.find_elements(By.XPATH, value = \"//div[@class='post-info']\")\n",
    "            for item in all_items:\n",
    "                try:\n",
    "                    price = item.find_element(By.XPATH, value = \".//p[@class='kt-unexpandable-row__value'][1]\").text\n",
    "                except:\n",
    "                    price = ''\n",
    "\n",
    "                try:\n",
    "                    place = item.find_element(By.XPATH, value = \".//div[@class='kt-page-title__subtitle kt-page-title__subtitle--responsive-sized']\").text\n",
    "                except:\n",
    "                    place = ''      \n",
    "\n",
    "                try:\n",
    "                    size = item.find_element(By.XPATH, value = \".//span[@class='kt-group-row-item__value'][1]\").text\n",
    "                except:\n",
    "                    size = '-1' \n",
    "\n",
    "                try:\n",
    "                    year = item.find_element(By.XPATH, value = \".//span[@class='kt-group-row-item__value'][2]\").text\n",
    "                except:\n",
    "                    year = '-1' \n",
    "\n",
    "                try:\n",
    "                    room = item.find_element(By.XPATH, value = \".//span[@class='kt-group-row-item__value'][3]\").text\n",
    "                except:\n",
    "                    room = '-1'    \n",
    "\n",
    "                data_rent_residential.append([price, place, int(size), int(year), int(room) ])\n",
    "        \n",
    "        driver.execute_script(\"window.scrollTo(0, document.body.scrollHeight,)\")\n",
    "        time.sleep(3)\n",
    "        all_items = driver.find_elements(By.XPATH, value = \"//a[@class='kt-post-card kt-post-card--outlined kt-post-card--has-chat']\")\n",
    "        links = [item.get_attribute('href') for item in all_items]\n",
    "        flag += 1\n",
    "        if flag >= maxFind: break\n",
    "    except:\n",
    "        break"
   ]
  },
  {
   "cell_type": "code",
   "execution_count": 34,
   "id": "e08b5e36",
   "metadata": {},
   "outputs": [
    {
     "data": {
      "text/plain": [
       "24"
      ]
     },
     "execution_count": 34,
     "metadata": {},
     "output_type": "execute_result"
    }
   ],
   "source": [
    "len(data_rent_residential)"
   ]
  },
  {
   "cell_type": "markdown",
   "id": "9b587ca0",
   "metadata": {},
   "source": [
    "# Save Data"
   ]
  },
  {
   "cell_type": "code",
   "execution_count": 29,
   "id": "bfa3c771",
   "metadata": {
    "scrolled": true
   },
   "outputs": [],
   "source": [
    "import sqlite3\n",
    "\n",
    "DBconnect = sqlite3.connect('Database-Divar.db', check_same_thread=False)\n",
    "c = DBconnect.cursor()"
   ]
  },
  {
   "cell_type": "markdown",
   "id": "a7818bf5",
   "metadata": {},
   "source": [
    "## Save rents"
   ]
  },
  {
   "cell_type": "code",
   "execution_count": 35,
   "id": "d237e4e9",
   "metadata": {},
   "outputs": [
    {
     "name": "stdout",
     "output_type": "stream",
     "text": [
      "['۹۰٬۰۰۰٬۰۰۰ تومان', 'دقایقی پیش در تهران، خواجه نظام الملک | اجاره آپارتمان', 46, -1, -1]\n",
      "['توافقی', 'دقایقی پیش در تهران، اکباتان | اجاره آپارتمان', 146, -1, -1]\n",
      "['۲۵۰٬۰۰۰٬۰۰۰ تومان', 'دقایقی پیش در تهران، حکیمیه | اجاره آپارتمان', 115, -1, -1]\n",
      "['۵۰٬۰۰۰٬۰۰۰ تومان', 'دقایقی پیش در تهران، جیحون، خیابان جیحون (خیابان دامپزشکی) | اجاره آپارتمان', 40, -1, -1]\n",
      "['۲۰۰٬۰۰۰٬۰۰۰ تومان', 'یک ربع پیش در تهران، سعادت\\u200cآباد | اجاره آپارتمان', 125, -1, -1]\n",
      "['۶۰٬۰۰۰٬۰۰۰ تومان', 'یک ربع پیش در تهران، فلاح | اجاره آپارتمان', 50, -1, -1]\n",
      "['۱۵۰٬۰۰۰٬۰۰۰ تومان', 'یک ربع پیش در تهران، شوش | اجاره آپارتمان', 50, -1, -1]\n",
      "['۱۰۰٬۰۰۰٬۰۰۰ تومان', 'یک ربع پیش در تهران، جردن | اجاره آپارتمان', 75, -1, -1]\n",
      "['۱۵۰٬۰۰۰٬۰۰۰ تومان', 'دقایقی پیش در تهران، جردن | اجاره آپارتمان', 50, -1, -1]\n",
      "['۲۰۰٬۰۰۰٬۰۰۰ تومان', 'یک ربع پیش در تهران، پلیس | اجاره آپارتمان', 93, -1, -1]\n",
      "['۱٬۰۰۰٬۰۰۰٬۰۰۰ تومان', 'نیم ساعت پیش در تهران، الهیه | اجاره آپارتمان', 180, -1, -1]\n",
      "['۱۵۰٬۰۰۰٬۰۰۰ تومان', 'دقایقی پیش در تهران، جردن | اجاره آپارتمان', 50, -1, -1]\n",
      "['۲۰۰٬۰۰۰٬۰۰۰ تومان', 'یک ربع پیش در تهران، پلیس | اجاره آپارتمان', 93, -1, -1]\n",
      "['۱٬۰۰۰٬۰۰۰٬۰۰۰ تومان', 'نیم ساعت پیش در تهران، الهیه | اجاره آپارتمان', 180, -1, -1]\n",
      "['۱٬۲۵۰٬۰۰۰٬۰۰۰ تومان', 'یک ربع پیش در تهران، شاهین | اجاره آپارتمان', 100, -1, -1]\n",
      "['۱٬۷۰۰٬۰۰۰٬۰۰۰ تومان', 'نیم ساعت پیش در تهران، سعادت\\u200cآباد | اجاره آپارتمان', 132, -1, -1]\n",
      "['۱۵۰٬۰۰۰٬۰۰۰ تومان', 'نیم ساعت پیش در تهران، ارامنه | اجاره آپارتمان', 58, -1, -1]\n",
      "['بدون اتاق', '۵ ساعت پیش در تهران، بیسیم | اجاره خانه و ویلا', 60, -1, -1]\n",
      "['۳۸۰٬۰۰۰٬۰۰۰ تومان', '۶ ساعت پیش در تهران، امیریه | اجاره آپارتمان', 83, -1, -1]\n",
      "['۳۵۰٬۰۰۰٬۰۰۰ تومان', '۶ ساعت پیش در تهران، کوی فردوس | اجاره آپارتمان', 75, -1, -1]\n",
      "['توافقی', '۶ ساعت پیش در تهران، فلاح | اجاره آپارتمان', 55, -1, -1]\n",
      "['۲۰۰٬۰۰۰٬۰۰۰ تومان', '۶ ساعت پیش در تهران، تجریش | اجاره آپارتمان', 70, -1, -1]\n",
      "['۲٬۰۰۰٬۰۰۰٬۰۰۰ تومان', '۶ ساعت پیش در تهران، زعفرانیه، خیابان اعجازی (خ. حسینی) | اجاره آپارتمان', 150, -1, -1]\n",
      "['۸۵۰٬۰۰۰٬۰۰۰ تومان', '۶ ساعت پیش در تهران، شهرک آزادی، کوچه تیر یکم | اجاره آپارتمان', 125, -1, -1]\n"
     ]
    }
   ],
   "source": [
    "for row in data_rent_residential:\n",
    "    c.execute(\"INSERT INTO TblBuyRent VALUES (?,?,?,?,?,?)\", (row[0], row[1], row[2], row[3], row[4], 'rent'))\n",
    "    print(row)\n",
    "DBconnect.commit()"
   ]
  },
  {
   "cell_type": "markdown",
   "id": "0f65b761",
   "metadata": {},
   "source": [
    "## Save sales"
   ]
  },
  {
   "cell_type": "code",
   "execution_count": 30,
   "id": "23db4c57",
   "metadata": {},
   "outputs": [
    {
     "name": "stdout",
     "output_type": "stream",
     "text": [
      "['۵۰۰ متر', 'دقایقی پیش در تهران، آبشار تهران | فروش زمین و کلنگی', -1, -1, -1]\n",
      "['۵۵۰ متر', 'دقایقی پیش در تهران، آسمان | فروش زمین و کلنگی', -1, -1, -1]\n",
      "['توافقی', 'دقایقی پیش در تهران، دروس | فروش آپارتمان', 195, -1, -1]\n",
      "['توافقی', 'دقایقی پیش در تهران، دروس | فروش آپارتمان', 235, -1, -1]\n",
      "['۳۳٬۷۵۰٬۰۰۰٬۰۰۰ تومان', 'دقایقی پیش در تهران، دروس | فروش آپارتمان', 270, -1, -1]\n",
      "['توافقی', 'دقایقی پیش در تهران، پاسداران | فروش آپارتمان', 300, -1, -1]\n",
      "['۶٬۳۵۰٬۰۰۰٬۰۰۰ تومان', 'دقایقی پیش در تهران، ستارخان | فروش آپارتمان', 125, -1, -1]\n",
      "['یک', 'دقایقی پیش در تهران، آرژانتین | فروش خانه و ویلا', 230, -1, -1]\n",
      "['۷۴۲٬۰۰۰٬۰۰۰ تومان', 'دقایقی پیش در تهران، اندیشه | فروش آپارتمان', 58, -1, -1]\n",
      "['۱٬۱۵۰٬۰۰۰٬۰۰۰ تومان', 'یک ربع پیش در تهران، دریاچه شهدای خلیج فارس | فروش آپارتمان', 100, -1, -1]\n",
      "['۳٬۳۵۰٬۰۰۰٬۰۰۰ تومان', 'یک ربع پیش در تهران، اوقاف | فروش آپارتمان', 95, -1, -1]\n",
      "['۱۷٬۵۰۰٬۰۰۰٬۰۰۰ تومان', 'یک ربع پیش در تهران، قلهک، خیابان یخچال (خ. دکتر شریعتی) | فروش آپارتمان', 185, -1, -1]\n",
      "['۱٬۱۰۰٬۰۰۰٬۰۰۰ تومان', 'دقایقی پیش در تهران، تهران\\u200cسر | فروش آپارتمان', 100, -1, -1]\n",
      "['۵۳۰٬۰۰۰٬۰۰۰ تومان', 'دقایقی پیش در تهران، اندیشه | فروش آپارتمان', 51, -1, -1]\n",
      "['۱۱٬۳۰۰٬۰۰۰٬۰۰۰ تومان', 'دقایقی پیش در تهران، قیطریه | فروش آپارتمان', 125, -1, -1]\n",
      "['توافقی', 'یک ربع پیش در تهران، پاسداران | فروش آپارتمان', 180, -1, -1]\n",
      "['۴٬۳۹۹٬۰۰۰٬۰۰۰ تومان', 'نیم ساعت پیش در تهران، پونک | فروش آپارتمان', 83, -1, -1]\n",
      "['۵۲۰ متر', 'یک ربع پیش در تهران، شهریار | فروش زمین و کلنگی', -1, -1, -1]\n",
      "['۲۴۳ متر', 'نیم ساعت پیش در تهران، جردن | فروش زمین و کلنگی', -1, -1, -1]\n",
      "['۳۰۰٬۰۰۰٬۰۰۰ تومان', '۱ ساعت پیش در تهران، چیتگر | فروش آپارتمان', 60, -1, -1]\n",
      "['۲۴٬۰۰۰٬۰۰۰٬۰۰۰ تومان', '۱ ساعت پیش در تهران، قیطریه | فروش آپارتمان', 240, -1, -1]\n",
      "['۷٬۵۰۰٬۰۰۰٬۰۰۰ تومان', '۱ ساعت پیش در تهران، اختیاریه | فروش آپارتمان', 120, -1, -1]\n",
      "['۸٬۴۰۰٬۰۰۰٬۰۰۰ تومان', '۱ ساعت پیش در تهران، هروی | فروش آپارتمان', 156, -1, -1]\n",
      "['توافقی', '۳ ساعت پیش در تهران، میدان انقلاب | فروش آپارتمان', 135, -1, -1]\n",
      "['۱٬۶۲۰٬۰۰۰٬۰۰۰ تومان', '۳ ساعت پیش در تهران، کوثر، خیابان هفده شهریور | فروش آپارتمان', 84, -1, -1]\n",
      "['۱٬۵۰۰٬۰۰۰٬۰۰۰ تومان', '۳ ساعت پیش در تهران، زمزم | فروش آپارتمان', 60, -1, -1]\n",
      "['پنج یا بیشتر', '۳ ساعت پیش در تهران، آبشار تهران | فروش خانه و ویلا', 500, -1, -1]\n",
      "['۱٬۳۷۵٬۰۰۰٬۰۰۰ تومان', '۳ ساعت پیش در تهران، تهرانپارس غربی | فروش آپارتمان', 125, -1, -1]\n",
      "['۹٬۵۰۰٬۰۰۰٬۰۰۰ تومان', '۴ ساعت پیش در تهران، تجریش | فروش آپارتمان', 110, -1, -1]\n",
      "['دو', '۴ ساعت پیش در تهران، سعیدآباد | فروش خانه و ویلا', 110, -1, -1]\n",
      "['توافقی', '۴ ساعت پیش در تهران، قیطریه | فروش آپارتمان', 110, -1, -1]\n",
      "['توافقی', '۴ ساعت پیش در تهران، سعادت\\u200cآباد | فروش آپارتمان', 100, -1, -1]\n"
     ]
    }
   ],
   "source": [
    "for row in data_buy_residential:\n",
    "    c.execute(\"INSERT INTO TblBuyRent VALUES (?,?,?,?,?,?)\", (row[0], row[1], row[2], row[3], row[4], 'buy'))\n",
    "    print(row)\n",
    "DBconnect.commit()"
   ]
  },
  {
   "cell_type": "code",
   "execution_count": null,
   "id": "83149614",
   "metadata": {},
   "outputs": [],
   "source": []
  }
 ],
 "metadata": {
  "kernelspec": {
   "display_name": "Python 3 (ipykernel)",
   "language": "python",
   "name": "python3"
  },
  "language_info": {
   "codemirror_mode": {
    "name": "ipython",
    "version": 3
   },
   "file_extension": ".py",
   "mimetype": "text/x-python",
   "name": "python",
   "nbconvert_exporter": "python",
   "pygments_lexer": "ipython3",
   "version": "3.8.5"
  }
 },
 "nbformat": 4,
 "nbformat_minor": 5
}
